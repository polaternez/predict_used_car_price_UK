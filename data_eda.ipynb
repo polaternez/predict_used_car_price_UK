{
 "cells": [
  {
   "cell_type": "markdown",
   "id": "72875bba",
   "metadata": {},
   "source": [
    "# Setup"
   ]
  },
  {
   "cell_type": "code",
   "execution_count": 1,
   "id": "b270b723",
   "metadata": {},
   "outputs": [],
   "source": [
    "import numpy as np\n",
    "import pandas as pd\n",
    "import matplotlib.pyplot as plt\n",
    "import seaborn as sns\n",
    "sns.set(style='darkgrid', font_scale=1.3)\n",
    "\n",
    "%matplotlib inline"
   ]
  },
  {
   "cell_type": "markdown",
   "id": "b12053ce",
   "metadata": {},
   "source": [
    "# Load data\n",
    "## Content\n",
    "\n",
    "* brand \n",
    "* model \n",
    "* year - registration year\n",
    "* price - price in £\n",
    "* transmission - type of gearbox\n",
    "* mileage - distance used\n",
    "* fuelType - engine fuel\n",
    "* tax - road tax\n",
    "* mpg - miles per gallon\n",
    "* engineSize - size in litres\n"
   ]
  },
  {
   "cell_type": "code",
   "execution_count": 2,
   "id": "ffe14690",
   "metadata": {},
   "outputs": [
    {
     "data": {
      "text/html": [
       "<div>\n",
       "<style scoped>\n",
       "    .dataframe tbody tr th:only-of-type {\n",
       "        vertical-align: middle;\n",
       "    }\n",
       "\n",
       "    .dataframe tbody tr th {\n",
       "        vertical-align: top;\n",
       "    }\n",
       "\n",
       "    .dataframe thead th {\n",
       "        text-align: right;\n",
       "    }\n",
       "</style>\n",
       "<table border=\"1\" class=\"dataframe\">\n",
       "  <thead>\n",
       "    <tr style=\"text-align: right;\">\n",
       "      <th></th>\n",
       "      <th>model</th>\n",
       "      <th>year</th>\n",
       "      <th>price</th>\n",
       "      <th>transmission</th>\n",
       "      <th>mileage</th>\n",
       "      <th>fuelType</th>\n",
       "      <th>tax</th>\n",
       "      <th>mpg</th>\n",
       "      <th>engineSize</th>\n",
       "      <th>brand</th>\n",
       "    </tr>\n",
       "  </thead>\n",
       "  <tbody>\n",
       "    <tr>\n",
       "      <th>0</th>\n",
       "      <td>A1</td>\n",
       "      <td>2017</td>\n",
       "      <td>12500</td>\n",
       "      <td>Manual</td>\n",
       "      <td>15735</td>\n",
       "      <td>Petrol</td>\n",
       "      <td>150</td>\n",
       "      <td>55.4</td>\n",
       "      <td>1.4</td>\n",
       "      <td>Audi</td>\n",
       "    </tr>\n",
       "    <tr>\n",
       "      <th>1</th>\n",
       "      <td>A6</td>\n",
       "      <td>2016</td>\n",
       "      <td>16500</td>\n",
       "      <td>Automatic</td>\n",
       "      <td>36203</td>\n",
       "      <td>Diesel</td>\n",
       "      <td>20</td>\n",
       "      <td>64.2</td>\n",
       "      <td>2.0</td>\n",
       "      <td>Audi</td>\n",
       "    </tr>\n",
       "    <tr>\n",
       "      <th>2</th>\n",
       "      <td>A1</td>\n",
       "      <td>2016</td>\n",
       "      <td>11000</td>\n",
       "      <td>Manual</td>\n",
       "      <td>29946</td>\n",
       "      <td>Petrol</td>\n",
       "      <td>30</td>\n",
       "      <td>55.4</td>\n",
       "      <td>1.4</td>\n",
       "      <td>Audi</td>\n",
       "    </tr>\n",
       "    <tr>\n",
       "      <th>3</th>\n",
       "      <td>A4</td>\n",
       "      <td>2017</td>\n",
       "      <td>16800</td>\n",
       "      <td>Automatic</td>\n",
       "      <td>25952</td>\n",
       "      <td>Diesel</td>\n",
       "      <td>145</td>\n",
       "      <td>67.3</td>\n",
       "      <td>2.0</td>\n",
       "      <td>Audi</td>\n",
       "    </tr>\n",
       "    <tr>\n",
       "      <th>4</th>\n",
       "      <td>A3</td>\n",
       "      <td>2019</td>\n",
       "      <td>17300</td>\n",
       "      <td>Manual</td>\n",
       "      <td>1998</td>\n",
       "      <td>Petrol</td>\n",
       "      <td>145</td>\n",
       "      <td>49.6</td>\n",
       "      <td>1.0</td>\n",
       "      <td>Audi</td>\n",
       "    </tr>\n",
       "    <tr>\n",
       "      <th>...</th>\n",
       "      <td>...</td>\n",
       "      <td>...</td>\n",
       "      <td>...</td>\n",
       "      <td>...</td>\n",
       "      <td>...</td>\n",
       "      <td>...</td>\n",
       "      <td>...</td>\n",
       "      <td>...</td>\n",
       "      <td>...</td>\n",
       "      <td>...</td>\n",
       "    </tr>\n",
       "    <tr>\n",
       "      <th>99181</th>\n",
       "      <td>Eos</td>\n",
       "      <td>2012</td>\n",
       "      <td>5990</td>\n",
       "      <td>Manual</td>\n",
       "      <td>74000</td>\n",
       "      <td>Diesel</td>\n",
       "      <td>125</td>\n",
       "      <td>58.9</td>\n",
       "      <td>2.0</td>\n",
       "      <td>Volkswagen</td>\n",
       "    </tr>\n",
       "    <tr>\n",
       "      <th>99182</th>\n",
       "      <td>Fox</td>\n",
       "      <td>2008</td>\n",
       "      <td>1799</td>\n",
       "      <td>Manual</td>\n",
       "      <td>88102</td>\n",
       "      <td>Petrol</td>\n",
       "      <td>145</td>\n",
       "      <td>46.3</td>\n",
       "      <td>1.2</td>\n",
       "      <td>Volkswagen</td>\n",
       "    </tr>\n",
       "    <tr>\n",
       "      <th>99183</th>\n",
       "      <td>Fox</td>\n",
       "      <td>2009</td>\n",
       "      <td>1590</td>\n",
       "      <td>Manual</td>\n",
       "      <td>70000</td>\n",
       "      <td>Petrol</td>\n",
       "      <td>200</td>\n",
       "      <td>42.0</td>\n",
       "      <td>1.4</td>\n",
       "      <td>Volkswagen</td>\n",
       "    </tr>\n",
       "    <tr>\n",
       "      <th>99184</th>\n",
       "      <td>Fox</td>\n",
       "      <td>2006</td>\n",
       "      <td>1250</td>\n",
       "      <td>Manual</td>\n",
       "      <td>82704</td>\n",
       "      <td>Petrol</td>\n",
       "      <td>150</td>\n",
       "      <td>46.3</td>\n",
       "      <td>1.2</td>\n",
       "      <td>Volkswagen</td>\n",
       "    </tr>\n",
       "    <tr>\n",
       "      <th>99185</th>\n",
       "      <td>Fox</td>\n",
       "      <td>2007</td>\n",
       "      <td>2295</td>\n",
       "      <td>Manual</td>\n",
       "      <td>74000</td>\n",
       "      <td>Petrol</td>\n",
       "      <td>145</td>\n",
       "      <td>46.3</td>\n",
       "      <td>1.2</td>\n",
       "      <td>Volkswagen</td>\n",
       "    </tr>\n",
       "  </tbody>\n",
       "</table>\n",
       "<p>99186 rows × 10 columns</p>\n",
       "</div>"
      ],
      "text/plain": [
       "      model  year  price transmission  mileage fuelType  tax   mpg  \\\n",
       "0        A1  2017  12500       Manual    15735   Petrol  150  55.4   \n",
       "1        A6  2016  16500    Automatic    36203   Diesel   20  64.2   \n",
       "2        A1  2016  11000       Manual    29946   Petrol   30  55.4   \n",
       "3        A4  2017  16800    Automatic    25952   Diesel  145  67.3   \n",
       "4        A3  2019  17300       Manual     1998   Petrol  145  49.6   \n",
       "...     ...   ...    ...          ...      ...      ...  ...   ...   \n",
       "99181   Eos  2012   5990       Manual    74000   Diesel  125  58.9   \n",
       "99182   Fox  2008   1799       Manual    88102   Petrol  145  46.3   \n",
       "99183   Fox  2009   1590       Manual    70000   Petrol  200  42.0   \n",
       "99184   Fox  2006   1250       Manual    82704   Petrol  150  46.3   \n",
       "99185   Fox  2007   2295       Manual    74000   Petrol  145  46.3   \n",
       "\n",
       "       engineSize       brand  \n",
       "0             1.4        Audi  \n",
       "1             2.0        Audi  \n",
       "2             1.4        Audi  \n",
       "3             2.0        Audi  \n",
       "4             1.0        Audi  \n",
       "...           ...         ...  \n",
       "99181         2.0  Volkswagen  \n",
       "99182         1.2  Volkswagen  \n",
       "99183         1.4  Volkswagen  \n",
       "99184         1.2  Volkswagen  \n",
       "99185         1.2  Volkswagen  \n",
       "\n",
       "[99186 rows x 10 columns]"
      ]
     },
     "execution_count": 2,
     "metadata": {},
     "output_type": "execute_result"
    }
   ],
   "source": [
    "car_df = pd.read_csv(\"./uk_used_car.csv\")\n",
    "car_df"
   ]
  },
  {
   "cell_type": "code",
   "execution_count": 3,
   "id": "cf60acce",
   "metadata": {},
   "outputs": [
    {
     "name": "stdout",
     "output_type": "stream",
     "text": [
      "<class 'pandas.core.frame.DataFrame'>\n",
      "RangeIndex: 99186 entries, 0 to 99185\n",
      "Data columns (total 10 columns):\n",
      " #   Column        Non-Null Count  Dtype  \n",
      "---  ------        --------------  -----  \n",
      " 0   model         99186 non-null  object \n",
      " 1   year          99186 non-null  int64  \n",
      " 2   price         99186 non-null  int64  \n",
      " 3   transmission  99186 non-null  object \n",
      " 4   mileage       99186 non-null  int64  \n",
      " 5   fuelType      99186 non-null  object \n",
      " 6   tax           99186 non-null  int64  \n",
      " 7   mpg           99186 non-null  float64\n",
      " 8   engineSize    99186 non-null  float64\n",
      " 9   brand         99186 non-null  object \n",
      "dtypes: float64(2), int64(4), object(4)\n",
      "memory usage: 7.6+ MB\n"
     ]
    }
   ],
   "source": [
    "car_df.info()"
   ]
  },
  {
   "cell_type": "markdown",
   "id": "74d90ffa",
   "metadata": {},
   "source": [
    "# EDA"
   ]
  },
  {
   "cell_type": "code",
   "execution_count": 4,
   "id": "50c64c14",
   "metadata": {},
   "outputs": [
    {
     "name": "stdout",
     "output_type": "stream",
     "text": [
      "cat_cols ['model', 'transmission', 'fuelType', 'brand']\n",
      "num_cols Index(['year', 'price', 'mileage', 'tax', 'mpg', 'engineSize'], dtype='object')\n"
     ]
    }
   ],
   "source": [
    "cat_cols = [col for col in car_df.columns if car_df[col].dtype==\"object\"]\n",
    "num_cols = car_df.columns.drop(cat_cols)\n",
    "\n",
    "print(\"cat_cols\", cat_cols)\n",
    "print(\"num_cols\", num_cols)"
   ]
  },
  {
   "cell_type": "code",
   "execution_count": 5,
   "id": "c390762f",
   "metadata": {},
   "outputs": [
    {
     "data": {
      "text/plain": [
       "<Axes: xlabel='price'>"
      ]
     },
     "execution_count": 5,
     "metadata": {},
     "output_type": "execute_result"
    },
    {
     "data": {
      "image/png": "[encoded data removed]",
      "text/plain": [
       "<Figure size 640x480 with 1 Axes>"
      ]
     },
     "metadata": {},
     "output_type": "display_data"
    }
   ],
   "source": [
    "sns.boxplot(data=car_df, x=\"price\")"
   ]
  },
  {
   "cell_type": "code",
   "execution_count": 6,
   "id": "e0250f1f",
   "metadata": {},
   "outputs": [
    {
     "data": {
      "text/html": [
       "<div>\n",
       "<style scoped>\n",
       "    .dataframe tbody tr th:only-of-type {\n",
       "        vertical-align: middle;\n",
       "    }\n",
       "\n",
       "    .dataframe tbody tr th {\n",
       "        vertical-align: top;\n",
       "    }\n",
       "\n",
       "    .dataframe thead th {\n",
       "        text-align: right;\n",
       "    }\n",
       "</style>\n",
       "<table border=\"1\" class=\"dataframe\">\n",
       "  <thead>\n",
       "    <tr style=\"text-align: right;\">\n",
       "      <th></th>\n",
       "      <th>count</th>\n",
       "      <th>mean</th>\n",
       "      <th>std</th>\n",
       "      <th>min</th>\n",
       "      <th>25%</th>\n",
       "      <th>50%</th>\n",
       "      <th>75%</th>\n",
       "      <th>max</th>\n",
       "    </tr>\n",
       "  </thead>\n",
       "  <tbody>\n",
       "    <tr>\n",
       "      <th>year</th>\n",
       "      <td>99186.0</td>\n",
       "      <td>2017.087291</td>\n",
       "      <td>2.119570</td>\n",
       "      <td>1970.0</td>\n",
       "      <td>2016.0</td>\n",
       "      <td>2017.0</td>\n",
       "      <td>2019.00</td>\n",
       "      <td>2020.0</td>\n",
       "    </tr>\n",
       "    <tr>\n",
       "      <th>price</th>\n",
       "      <td>99186.0</td>\n",
       "      <td>16805.451606</td>\n",
       "      <td>9866.768844</td>\n",
       "      <td>450.0</td>\n",
       "      <td>9999.0</td>\n",
       "      <td>14495.0</td>\n",
       "      <td>20870.00</td>\n",
       "      <td>159999.0</td>\n",
       "    </tr>\n",
       "    <tr>\n",
       "      <th>mileage</th>\n",
       "      <td>99186.0</td>\n",
       "      <td>23058.594126</td>\n",
       "      <td>21148.390071</td>\n",
       "      <td>1.0</td>\n",
       "      <td>7424.5</td>\n",
       "      <td>17460.0</td>\n",
       "      <td>32337.75</td>\n",
       "      <td>323000.0</td>\n",
       "    </tr>\n",
       "    <tr>\n",
       "      <th>tax</th>\n",
       "      <td>99186.0</td>\n",
       "      <td>120.298984</td>\n",
       "      <td>63.150672</td>\n",
       "      <td>0.0</td>\n",
       "      <td>125.0</td>\n",
       "      <td>145.0</td>\n",
       "      <td>145.00</td>\n",
       "      <td>580.0</td>\n",
       "    </tr>\n",
       "    <tr>\n",
       "      <th>mpg</th>\n",
       "      <td>99186.0</td>\n",
       "      <td>55.166950</td>\n",
       "      <td>16.138556</td>\n",
       "      <td>0.3</td>\n",
       "      <td>47.1</td>\n",
       "      <td>54.3</td>\n",
       "      <td>62.80</td>\n",
       "      <td>470.8</td>\n",
       "    </tr>\n",
       "    <tr>\n",
       "      <th>engineSize</th>\n",
       "      <td>99186.0</td>\n",
       "      <td>1.663283</td>\n",
       "      <td>0.557649</td>\n",
       "      <td>0.0</td>\n",
       "      <td>1.2</td>\n",
       "      <td>1.6</td>\n",
       "      <td>2.00</td>\n",
       "      <td>6.6</td>\n",
       "    </tr>\n",
       "  </tbody>\n",
       "</table>\n",
       "</div>"
      ],
      "text/plain": [
       "              count          mean           std     min     25%      50%  \\\n",
       "year        99186.0   2017.087291      2.119570  1970.0  2016.0   2017.0   \n",
       "price       99186.0  16805.451606   9866.768844   450.0  9999.0  14495.0   \n",
       "mileage     99186.0  23058.594126  21148.390071     1.0  7424.5  17460.0   \n",
       "tax         99186.0    120.298984     63.150672     0.0   125.0    145.0   \n",
       "mpg         99186.0     55.166950     16.138556     0.3    47.1     54.3   \n",
       "engineSize  99186.0      1.663283      0.557649     0.0     1.2      1.6   \n",
       "\n",
       "                 75%       max  \n",
       "year         2019.00    2020.0  \n",
       "price       20870.00  159999.0  \n",
       "mileage     32337.75  323000.0  \n",
       "tax           145.00     580.0  \n",
       "mpg            62.80     470.8  \n",
       "engineSize      2.00       6.6  "
      ]
     },
     "execution_count": 6,
     "metadata": {},
     "output_type": "execute_result"
    }
   ],
   "source": [
    "car_df.describe().T"
   ]
  },
  {
   "cell_type": "code",
   "execution_count": null,
   "id": "2a6e1743",
   "metadata": {},
   "outputs": [],
   "source": [
    "car_df.hist(bins=50, figsize=(14, 9))"
   ]
  },
  {
   "cell_type": "code",
   "execution_count": null,
   "id": "343add96",
   "metadata": {},
   "outputs": [],
   "source": [
    "plt.figure(figsize=(18, 8))\n",
    "for i, col in enumerate(['transmission', 'fuelType', 'brand']):\n",
    "    plt.subplot(2, 2, i+1)\n",
    "    sns.countplot(data=car_df, x=col)"
   ]
  },
  {
   "cell_type": "code",
   "execution_count": null,
   "id": "d6613890",
   "metadata": {},
   "outputs": [],
   "source": [
    "plt.figure(figsize=(18, 8))\n",
    "for i, col in enumerate(['transmission', 'fuelType', 'brand']):\n",
    "    plt.subplot(2, 2, i+1)\n",
    "    sns.barplot(data=car_df, x=col, y=\"price\")"
   ]
  },
  {
   "cell_type": "code",
   "execution_count": null,
   "id": "dc019e81",
   "metadata": {},
   "outputs": [],
   "source": [
    "plt.figure(figsize=(10, 8))\n",
    "sns.heatmap(car_df.corr(), annot=True)"
   ]
  },
  {
   "cell_type": "code",
   "execution_count": null,
   "id": "d83011b9",
   "metadata": {},
   "outputs": [],
   "source": [
    "car_df.groupby([\"brand\"]).mean()"
   ]
  },
  {
   "cell_type": "code",
   "execution_count": null,
   "id": "39876854",
   "metadata": {},
   "outputs": [],
   "source": [
    "car_df.pivot_table(values=\"price\", index=[\"brand\"], columns=\"transmission\", margins=True)"
   ]
  },
  {
   "cell_type": "code",
   "execution_count": null,
   "id": "91635a96",
   "metadata": {},
   "outputs": [],
   "source": [
    "pd.crosstab(index=car_df.transmission, columns=car_df.fuelType, normalize=\"index\", margins=True)"
   ]
  },
  {
   "cell_type": "markdown",
   "id": "e9aa0209",
   "metadata": {},
   "source": [
    "# Feature engineering"
   ]
  },
  {
   "cell_type": "code",
   "execution_count": null,
   "id": "f018e8e9",
   "metadata": {},
   "outputs": [],
   "source": [
    "# drop outliers\n",
    "car_df = car_df[car_df[\"price\"] < 60000]"
   ]
  },
  {
   "cell_type": "code",
   "execution_count": null,
   "id": "36138600",
   "metadata": {},
   "outputs": [],
   "source": [
    "sns.boxplot(data=car_df ,x=\"price\")"
   ]
  },
  {
   "cell_type": "code",
   "execution_count": null,
   "id": "50167b6e",
   "metadata": {},
   "outputs": [],
   "source": [
    "# drop year less than 2005\n",
    "car_df = car_df[2001<=car_df[\"year\"]]"
   ]
  },
  {
   "cell_type": "code",
   "execution_count": null,
   "id": "b7b7d937",
   "metadata": {},
   "outputs": [],
   "source": [
    "# age of car\n",
    "car_df[\"age\"] = 2021 - car_df[\"year\"]"
   ]
  },
  {
   "cell_type": "code",
   "execution_count": null,
   "id": "2bf63a2b",
   "metadata": {},
   "outputs": [],
   "source": [
    "sns.barplot(data=car_df, x=\"age\", y=\"price\")"
   ]
  },
  {
   "cell_type": "code",
   "execution_count": null,
   "id": "a34dabfe",
   "metadata": {},
   "outputs": [],
   "source": [
    "# normalize mileage \n",
    "car_df[\"mileage\"] = np.log10(car_df[\"mileage\"])"
   ]
  },
  {
   "cell_type": "code",
   "execution_count": null,
   "id": "92642589",
   "metadata": {},
   "outputs": [],
   "source": [
    "sns.histplot(data=car_df ,x=\"mileage\")"
   ]
  },
  {
   "cell_type": "code",
   "execution_count": null,
   "id": "5f5532b3",
   "metadata": {},
   "outputs": [],
   "source": [
    "# brands sorted by mean prices\n",
    "brand_dict = {'Mercedes': 0, 'Audi': 1, 'BMW': 2, 'Volkswagen': 3, 'Skoda': 4,\n",
    "                'Hyundi': 5, 'Toyota': 6, 'Ford': 7, 'Vauxhall': 8}\n",
    "                \n",
    "car_df[\"brand_rank\"] = car_df[\"brand\"].map(brand_dict)"
   ]
  },
  {
   "cell_type": "code",
   "execution_count": null,
   "id": "f2c91a73",
   "metadata": {},
   "outputs": [],
   "source": [
    "sns.barplot(data=car_df, x=\"brand_rank\", y=\"price\") "
   ]
  },
  {
   "cell_type": "code",
   "execution_count": null,
   "id": "02235abd",
   "metadata": {},
   "outputs": [],
   "source": [
    "# transmission type is 'Manual'\n",
    "car_df[\"transmission_Manual\"] = [1 if x==\"Manual\" else 0 for x in car_df[\"transmission\"]]"
   ]
  },
  {
   "cell_type": "code",
   "execution_count": null,
   "id": "fc0ca821",
   "metadata": {},
   "outputs": [],
   "source": [
    "sns.barplot(data=car_df, x=\"transmission_Manual\", y=\"price\") "
   ]
  },
  {
   "cell_type": "code",
   "execution_count": null,
   "id": "9cf570fc",
   "metadata": {},
   "outputs": [],
   "source": [
    "# save final data\n",
    "car_df.to_csv(\"eda_data.csv\", index=False)"
   ]
  },
  {
   "cell_type": "code",
   "execution_count": null,
   "id": "1bda6896",
   "metadata": {},
   "outputs": [],
   "source": []
  }
 ],
 "metadata": {
  "kernelspec": {
   "display_name": "Python 3 (ipykernel)",
   "language": "python",
   "name": "python3"
  },
  "language_info": {
   "codemirror_mode": {
    "name": "ipython",
    "version": 3
   },
   "file_extension": ".py",
   "mimetype": "text/x-python",
   "name": "python",
   "nbconvert_exporter": "python",
   "pygments_lexer": "ipython3",
   "version": "3.10.11"
  }
 },
 "nbformat": 4,
 "nbformat_minor": 5
}
