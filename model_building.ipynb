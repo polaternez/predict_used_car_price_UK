{
 "cells": [
  {
   "cell_type": "markdown",
   "id": "b0d5f036",
   "metadata": {},
   "source": [
    "# Setup"
   ]
  },
  {
   "cell_type": "code",
   "execution_count": 1,
   "id": "fe6d88d4",
   "metadata": {},
   "outputs": [],
   "source": [
    "import numpy as np\n",
    "import pandas as pd\n",
    "import matplotlib.pyplot as plt\n",
    "import seaborn as sns\n",
    "sns.set(style='darkgrid', font_scale=1.3)\n",
    "\n",
    "from sklearn.model_selection import cross_val_score, GridSearchCV\n",
    "from sklearn import metrics\n",
    "\n",
    "%matplotlib inline"
   ]
  },
  {
   "cell_type": "markdown",
   "id": "b2604275",
   "metadata": {},
   "source": [
    "# Data preprocessing"
   ]
  },
  {
   "cell_type": "code",
   "execution_count": 2,
   "id": "0c3e9da1",
   "metadata": {},
   "outputs": [
    {
     "data": {
      "text/html": [
       "<div>\n",
       "<style scoped>\n",
       "    .dataframe tbody tr th:only-of-type {\n",
       "        vertical-align: middle;\n",
       "    }\n",
       "\n",
       "    .dataframe tbody tr th {\n",
       "        vertical-align: top;\n",
       "    }\n",
       "\n",
       "    .dataframe thead th {\n",
       "        text-align: right;\n",
       "    }\n",
       "</style>\n",
       "<table border=\"1\" class=\"dataframe\">\n",
       "  <thead>\n",
       "    <tr style=\"text-align: right;\">\n",
       "      <th></th>\n",
       "      <th>price</th>\n",
       "      <th>mileage</th>\n",
       "      <th>mpg</th>\n",
       "      <th>engineSize</th>\n",
       "      <th>age</th>\n",
       "      <th>brand_rank</th>\n",
       "      <th>transmission_Manual</th>\n",
       "    </tr>\n",
       "  </thead>\n",
       "  <tbody>\n",
       "    <tr>\n",
       "      <th>0</th>\n",
       "      <td>12500</td>\n",
       "      <td>4.196867</td>\n",
       "      <td>55.4</td>\n",
       "      <td>1.4</td>\n",
       "      <td>4</td>\n",
       "      <td>1</td>\n",
       "      <td>1</td>\n",
       "    </tr>\n",
       "    <tr>\n",
       "      <th>1</th>\n",
       "      <td>16500</td>\n",
       "      <td>4.558745</td>\n",
       "      <td>64.2</td>\n",
       "      <td>2.0</td>\n",
       "      <td>5</td>\n",
       "      <td>1</td>\n",
       "      <td>0</td>\n",
       "    </tr>\n",
       "    <tr>\n",
       "      <th>2</th>\n",
       "      <td>11000</td>\n",
       "      <td>4.476339</td>\n",
       "      <td>55.4</td>\n",
       "      <td>1.4</td>\n",
       "      <td>5</td>\n",
       "      <td>1</td>\n",
       "      <td>1</td>\n",
       "    </tr>\n",
       "    <tr>\n",
       "      <th>3</th>\n",
       "      <td>16800</td>\n",
       "      <td>4.414171</td>\n",
       "      <td>67.3</td>\n",
       "      <td>2.0</td>\n",
       "      <td>4</td>\n",
       "      <td>1</td>\n",
       "      <td>0</td>\n",
       "    </tr>\n",
       "    <tr>\n",
       "      <th>4</th>\n",
       "      <td>17300</td>\n",
       "      <td>3.300595</td>\n",
       "      <td>49.6</td>\n",
       "      <td>1.0</td>\n",
       "      <td>2</td>\n",
       "      <td>1</td>\n",
       "      <td>1</td>\n",
       "    </tr>\n",
       "    <tr>\n",
       "      <th>...</th>\n",
       "      <td>...</td>\n",
       "      <td>...</td>\n",
       "      <td>...</td>\n",
       "      <td>...</td>\n",
       "      <td>...</td>\n",
       "      <td>...</td>\n",
       "      <td>...</td>\n",
       "    </tr>\n",
       "    <tr>\n",
       "      <th>98724</th>\n",
       "      <td>5990</td>\n",
       "      <td>4.869232</td>\n",
       "      <td>58.9</td>\n",
       "      <td>2.0</td>\n",
       "      <td>9</td>\n",
       "      <td>3</td>\n",
       "      <td>1</td>\n",
       "    </tr>\n",
       "    <tr>\n",
       "      <th>98725</th>\n",
       "      <td>1799</td>\n",
       "      <td>4.944986</td>\n",
       "      <td>46.3</td>\n",
       "      <td>1.2</td>\n",
       "      <td>13</td>\n",
       "      <td>3</td>\n",
       "      <td>1</td>\n",
       "    </tr>\n",
       "    <tr>\n",
       "      <th>98726</th>\n",
       "      <td>1590</td>\n",
       "      <td>4.845098</td>\n",
       "      <td>42.0</td>\n",
       "      <td>1.4</td>\n",
       "      <td>12</td>\n",
       "      <td>3</td>\n",
       "      <td>1</td>\n",
       "    </tr>\n",
       "    <tr>\n",
       "      <th>98727</th>\n",
       "      <td>1250</td>\n",
       "      <td>4.917527</td>\n",
       "      <td>46.3</td>\n",
       "      <td>1.2</td>\n",
       "      <td>15</td>\n",
       "      <td>3</td>\n",
       "      <td>1</td>\n",
       "    </tr>\n",
       "    <tr>\n",
       "      <th>98728</th>\n",
       "      <td>2295</td>\n",
       "      <td>4.869232</td>\n",
       "      <td>46.3</td>\n",
       "      <td>1.2</td>\n",
       "      <td>14</td>\n",
       "      <td>3</td>\n",
       "      <td>1</td>\n",
       "    </tr>\n",
       "  </tbody>\n",
       "</table>\n",
       "<p>98729 rows × 7 columns</p>\n",
       "</div>"
      ],
      "text/plain": [
       "       price   mileage   mpg  engineSize  age  brand_rank  transmission_Manual\n",
       "0      12500  4.196867  55.4         1.4    4           1                    1\n",
       "1      16500  4.558745  64.2         2.0    5           1                    0\n",
       "2      11000  4.476339  55.4         1.4    5           1                    1\n",
       "3      16800  4.414171  67.3         2.0    4           1                    0\n",
       "4      17300  3.300595  49.6         1.0    2           1                    1\n",
       "...      ...       ...   ...         ...  ...         ...                  ...\n",
       "98724   5990  4.869232  58.9         2.0    9           3                    1\n",
       "98725   1799  4.944986  46.3         1.2   13           3                    1\n",
       "98726   1590  4.845098  42.0         1.4   12           3                    1\n",
       "98727   1250  4.917527  46.3         1.2   15           3                    1\n",
       "98728   2295  4.869232  46.3         1.2   14           3                    1\n",
       "\n",
       "[98729 rows x 7 columns]"
      ]
     },
     "execution_count": 2,
     "metadata": {},
     "output_type": "execute_result"
    }
   ],
   "source": [
    "car_df = pd.read_csv(\"./data/eda_data.csv\")\n",
    "car_df = car_df.drop([\"model\", \"year\", \"transmission\", \"fuelType\", \"tax\", \"brand\"], axis=1)\n",
    "car_df"
   ]
  },
  {
   "cell_type": "markdown",
   "id": "5c32e10d",
   "metadata": {},
   "source": [
    "## train-test split "
   ]
  },
  {
   "cell_type": "code",
   "execution_count": 3,
   "id": "ed5667ef",
   "metadata": {},
   "outputs": [
    {
     "data": {
      "text/plain": [
       "Index(['price', 'mileage', 'mpg', 'engineSize', 'age', 'brand_rank',\n",
       "       'transmission_Manual'],\n",
       "      dtype='object')"
      ]
     },
     "execution_count": 3,
     "metadata": {},
     "output_type": "execute_result"
    }
   ],
   "source": [
    "car_df.columns"
   ]
  },
  {
   "cell_type": "code",
   "execution_count": 4,
   "id": "81e4582b",
   "metadata": {},
   "outputs": [],
   "source": [
    "y = car_df[\"price\"].values\n",
    "X = car_df.drop([\"price\"], axis=1).values"
   ]
  },
  {
   "cell_type": "code",
   "execution_count": 5,
   "id": "6c6d3b75",
   "metadata": {},
   "outputs": [
    {
     "name": "stdout",
     "output_type": "stream",
     "text": [
      "(78983, 6)\n",
      "(19746, 6)\n"
     ]
    }
   ],
   "source": [
    "from sklearn.model_selection import train_test_split\n",
    "\n",
    "X_train, X_test, y_train, y_test = train_test_split(X, y, test_size=0.2, random_state=42)\n",
    "\n",
    "print(X_train.shape)\n",
    "print(X_test.shape)"
   ]
  },
  {
   "cell_type": "markdown",
   "id": "4d4657f1",
   "metadata": {},
   "source": [
    "## scaling"
   ]
  },
  {
   "cell_type": "code",
   "execution_count": 6,
   "id": "34629f1e",
   "metadata": {},
   "outputs": [],
   "source": [
    "from sklearn.preprocessing import StandardScaler\n",
    "\n",
    "scaler = StandardScaler()\n",
    "\n",
    "X_train = scaler.fit_transform(X_train)\n",
    "X_test = scaler.transform(X_test)"
   ]
  },
  {
   "cell_type": "markdown",
   "id": "61378a3a",
   "metadata": {},
   "source": [
    "# Build model"
   ]
  },
  {
   "cell_type": "code",
   "execution_count": 7,
   "id": "94030a27",
   "metadata": {},
   "outputs": [],
   "source": [
    "import time \n",
    "\n",
    "import xgboost as xgb\n",
    "from sklearn.linear_model import LinearRegression, Ridge\n",
    "from sklearn.tree import DecisionTreeRegressor\n",
    "from sklearn.ensemble import RandomForestRegressor, ExtraTreesRegressor"
   ]
  },
  {
   "cell_type": "code",
   "execution_count": 8,
   "id": "872de44a",
   "metadata": {},
   "outputs": [],
   "source": [
    "xgb_reg = xgb.XGBRegressor(objective=\"reg:squarederror\", random_state=42)\n",
    "lin_reg = LinearRegression()\n",
    "ridge_reg = Ridge()\n",
    "dt_reg = DecisionTreeRegressor(random_state=42)\n",
    "rf_reg = RandomForestRegressor(random_state=42)\n",
    "\n",
    "regressors = zip(\n",
    "    [\"XGBRegressor\", \"LinearRegression\", \"Ridge\", \"DecisionTreeRegressor\", \"RandomForestRegressor\"],\n",
    "    [xgb_reg, lin_reg, ridge_reg, dt_reg, rf_reg]\n",
    ")"
   ]
  },
  {
   "cell_type": "code",
   "execution_count": 9,
   "id": "df1659a2",
   "metadata": {},
   "outputs": [
    {
     "name": "stdout",
     "output_type": "stream",
     "text": [
      "[XGBRegressor] mae: 1486.877 (+/- 17.729) - 17.687358 sec\n",
      "[LinearRegression] mae: 2975.110 (+/- 9.961) - 0.674073 sec\n",
      "[Ridge] mae: 2975.104 (+/- 9.961) - 0.311642 sec\n",
      "[DecisionTreeRegressor] mae: 1656.486 (+/- 27.226) - 3.788687 sec\n",
      "[RandomForestRegressor] mae: 1366.835 (+/- 11.030) - 320.775253 sec\n",
      "Elasped time : 343.237013 sec\n"
     ]
    }
   ],
   "source": [
    "end = 0\n",
    "\n",
    "for label, model in regressors:\n",
    "    start = time.time()\n",
    "    scores = cross_val_score(model, X_train, y_train, scoring=\"neg_mean_absolute_error\", cv=5)\n",
    "    scores *= -1\n",
    "    elapsed_time = time.time() - start\n",
    "    print(\"[%s] mae: %0.3f (+/- %0.3f) - %f sec\" % (label, scores.mean(), scores.std(), elapsed_time))\n",
    "    end += elapsed_time\n",
    "\n",
    "print(\"Elasped time : %f sec\" %  end)"
   ]
  },
  {
   "cell_type": "markdown",
   "id": "f8cfb57d-c7b4-4bf8-b945-674bc1129d8c",
   "metadata": {},
   "source": [
    "# Fine-Tune Model"
   ]
  },
  {
   "cell_type": "markdown",
   "id": "a1ce1f1a",
   "metadata": {},
   "source": [
    "## Grid Search"
   ]
  },
  {
   "cell_type": "code",
   "execution_count": null,
   "id": "7c5d9f46",
   "metadata": {},
   "outputs": [],
   "source": [
    "parameters = {\n",
    "    \"max_depth\": [6, 9, 12],\n",
    "    \"min_child_weight\": [1, 2, 4],\n",
    "    \"gamma\": [0, 1, 2],\n",
    "    \"subsample\": [1.0], \n",
    "    \"colsample_bytree\": [0.8]\n",
    "}\n",
    "\n",
    "grid_search = GridSearchCV(estimator=xgb_reg, param_grid=parameters, scoring=\"neg_mean_absolute_error\", cv=5, n_jobs=-1)\n",
    "grid_search.fit(X_train, y_train)"
   ]
  },
  {
   "cell_type": "code",
   "execution_count": null,
   "id": "def8e0ab",
   "metadata": {},
   "outputs": [],
   "source": [
    "best_score = grid_search.best_score_\n",
    "best_params = grid_search.best_params_\n",
    "\n",
    "print(\"best_score\", best_score)\n",
    "print(\"best_params\", best_params)"
   ]
  },
  {
   "cell_type": "code",
   "execution_count": null,
   "id": "51c47805",
   "metadata": {},
   "outputs": [],
   "source": [
    "df = pd.DataFrame(grid_search.cv_results_)\n",
    "print(df[[\"params\", \"mean_test_score\", \"rank_test_score\"]].sort_values(\"rank_test_score\").head().to_string())"
   ]
  },
  {
   "cell_type": "code",
   "execution_count": null,
   "id": "de968aee",
   "metadata": {},
   "outputs": [],
   "source": [
    "# final_model\n",
    "final_model = grid_search.best_estimator_\n",
    "y_pred = final_model.predict(X_test)\n",
    "\n",
    "print(\"test mae:\", metrics.mean_absolute_error(y_test, y_pred))\n",
    "\n",
    "plt.plot(y_test, y_test, \"r-\")\n",
    "plt.scatter(y_test, y_pred, alpha=0.2)"
   ]
  },
  {
   "cell_type": "markdown",
   "id": "e47dd38f",
   "metadata": {},
   "source": [
    "# Save Model "
   ]
  },
  {
   "cell_type": "code",
   "execution_count": null,
   "id": "ef3fd44f",
   "metadata": {},
   "outputs": [],
   "source": [
    "import pickle\n",
    "\n",
    "filename = \"final_model.pkl\"\n",
    "pickle.dump(final_model, open(filename, \"wb\"))"
   ]
  },
  {
   "cell_type": "code",
   "execution_count": null,
   "id": "740f40f3",
   "metadata": {},
   "outputs": [],
   "source": [
    "# #load model\n",
    "# loaded_model = pickle.load(open(filename, \"rb\"))\n",
    "# print(loaded_model.score(X_test, y_test))"
   ]
  },
  {
   "cell_type": "code",
   "execution_count": null,
   "id": "41a17106",
   "metadata": {},
   "outputs": [],
   "source": []
  }
 ],
 "metadata": {
  "kernelspec": {
   "display_name": "Python 3 (ipykernel)",
   "language": "python",
   "name": "python3"
  },
  "language_info": {
   "codemirror_mode": {
    "name": "ipython",
    "version": 3
   },
   "file_extension": ".py",
   "mimetype": "text/x-python",
   "name": "python",
   "nbconvert_exporter": "python",
   "pygments_lexer": "ipython3",
   "version": "3.9.18"
  },
  "toc-autonumbering": true,
  "toc-showmarkdowntxt": false
 },
 "nbformat": 4,
 "nbformat_minor": 5
}
